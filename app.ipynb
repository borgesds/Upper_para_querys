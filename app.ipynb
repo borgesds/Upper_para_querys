{
 "cells": [
  {
   "cell_type": "code",
   "execution_count": null,
   "metadata": {},
   "outputs": [],
   "source": [
    "import re\n",
    "import os"
   ]
  },
  {
   "cell_type": "code",
   "execution_count": null,
   "metadata": {},
   "outputs": [],
   "source": [
    "def transform_query_to_uppercase(input_file, output_file):\n",
    "    with open(input_file, 'r', encoding='utf-8') as f:\n",
    "        query = f.read()\n",
    "\n",
    "    keywords = ['select', 'distinct', ' as', 'from', 'where',\n",
    "                'inner', 'join', 'left', 'right', 'coalesce',\n",
    "                'decode', ' on', ' in', 'and', ' end', 'case',\n",
    "                'when', 'then', 'else', 'if', 'exists', \n",
    "                ' not', 'cascade', 'create', 'table', 'drop',\n",
    "                'time', 'sum', 'datetime', 'order by',\n",
    "                'group by', 'between'\n",
    "            ]\n",
    "    \n",
    "    def replace_keyword(match):\n",
    "        return match.group().upper()\n",
    "    \n",
    "    # Constrói a expressão regular usando as palavras-chave\n",
    "    pattern = r'\\b(?:' + '|'.join(re.escape(kw) for kw in keywords) + r')\\b'\n",
    "    \n",
    "    # Aplica a transformação para maiúsculas nas palavras-chave\n",
    "    query_uppercase = re.sub(pattern, replace_keyword, query, flags=re.IGNORECASE)\n",
    "\n",
    "    # Escreve o resultado no arquivo de saída\n",
    "    with open(output_file, 'w', encoding='utf-8') as f:\n",
    "        f.write(query_uppercase)"
   ]
  },
  {
   "cell_type": "code",
   "execution_count": null,
   "metadata": {},
   "outputs": [],
   "source": [
    "input_file = \"C:\\\\Users\\\\borge\\\\Downloads\\\\upper\\\\query_input\"\n",
    "# Listar arquivos\n",
    "files = [file_ for file_ in os.listdir(input_file)]\n",
    "\n",
    "for file_ in files:\n",
    "    print(f\"{file_} tranformado!!!\")\n",
    "    # Chamada da função para transformar a query para maiúsculas\n",
    "    input_file = f\"C:\\\\Users\\\\borge\\\\Downloads\\\\upper\\\\query_input\\\\{file_}\"\n",
    "    output_file = f\"C:\\\\Users\\\\borge\\\\Downloads\\\\upper\\\\query_output\\\\{file_}\"\n",
    "\n",
    "    transform_query_to_uppercase(input_file, output_file)\n",
    "\n",
    "print(\"Sucesso!!!\")"
   ]
  }
 ],
 "metadata": {
  "kernelspec": {
   "display_name": "Python 3",
   "language": "python",
   "name": "python3"
  },
  "language_info": {
   "codemirror_mode": {
    "name": "ipython",
    "version": 3
   },
   "file_extension": ".py",
   "mimetype": "text/x-python",
   "name": "python",
   "nbconvert_exporter": "python",
   "pygments_lexer": "ipython3",
   "version": "3.11.4"
  },
  "orig_nbformat": 4
 },
 "nbformat": 4,
 "nbformat_minor": 2
}
